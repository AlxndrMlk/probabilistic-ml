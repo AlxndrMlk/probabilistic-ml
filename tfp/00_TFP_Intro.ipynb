{
  "nbformat": 4,
  "nbformat_minor": 0,
  "metadata": {
    "colab": {
      "name": "00_TFP_Intro.ipynb",
      "provenance": []
    },
    "kernelspec": {
      "name": "python3",
      "display_name": "Python 3"
    }
  },
  "cells": [
    {
      "cell_type": "code",
      "metadata": {
        "id": "cnCD-jL2LIHS"
      },
      "source": [
        "import tensorflow.keras as keras\n",
        "import tensorflow as tf\n",
        "\n",
        "import tensorflow_probability as tfp\n",
        "tfd = tfp.distributions\n",
        "tfpl = tfp.layers\n",
        "\n",
        "import matplotlib.pyplot as plt\n",
        "plt.style.use('fivethirtyeight')"
      ],
      "execution_count": 24,
      "outputs": []
    },
    {
      "cell_type": "markdown",
      "metadata": {
        "id": "pHmXLBUSLk5-"
      },
      "source": [
        "# Probabilistic ML 00\n",
        "\n",
        "## Exercise 01\n",
        "\n",
        "In human psychology, we often use IQ ([intelligence quotient](https://en.wikipedia.org/wiki/Intelligence_quotient)) as a measure of intelligence. IQ is normally distributed with mean 100 and standard deviation (SD) of 15. \n",
        "\n",
        "Let's assume that we know SD of IQ, but we don;t know the mean. \n",
        "\n",
        "We'll build a probabilistic model that will help us find the true mean of IQ.\n"
      ]
    },
    {
      "cell_type": "code",
      "metadata": {
        "id": "Qvfs-OhiN42l"
      },
      "source": [
        "# Define distribution params\n",
        "true_mean = 100.\n",
        "true_sd = 15."
      ],
      "execution_count": 19,
      "outputs": []
    },
    {
      "cell_type": "code",
      "metadata": {
        "id": "_podwggYLQkC"
      },
      "source": [
        "# Create some data\n",
        "iq_data = tf.random.normal((10000, 1), true_mean, true_sd)"
      ],
      "execution_count": 20,
      "outputs": []
    },
    {
      "cell_type": "code",
      "metadata": {
        "colab": {
          "base_uri": "https://localhost:8080/"
        },
        "id": "QVqcVE8lMqr5",
        "outputId": "18260c82-b794-479d-eada-2b81bd687257"
      },
      "source": [
        "# Sanity check - are the values correct?\n",
        "iq_data.numpy().mean(), iq_data.numpy().std()"
      ],
      "execution_count": 21,
      "outputs": [
        {
          "output_type": "execute_result",
          "data": {
            "text/plain": [
              "(100.00762, 15.070722)"
            ]
          },
          "metadata": {
            "tags": []
          },
          "execution_count": 21
        }
      ]
    },
    {
      "cell_type": "code",
      "metadata": {
        "id": "tj62159BNNZ5"
      },
      "source": [
        "# Let's build the model!\n",
        "model = keras.Sequential([\n",
        "                          keras.layers.Dense(1, input_shape = (1,)),\n",
        "                          tfpl.DistributionLambda(\n",
        "                              lambda m: tfd.Normal(loc = m, scale = true_sd)\n",
        "                          )\n",
        "])"
      ],
      "execution_count": 40,
      "outputs": []
    },
    {
      "cell_type": "markdown",
      "metadata": {
        "id": "va8xxTjfOQ92"
      },
      "source": [
        "Note that our model returns a distribution. We need to build a cost function that reflects that."
      ]
    },
    {
      "cell_type": "code",
      "metadata": {
        "id": "QDUrTXOROCZ9"
      },
      "source": [
        "# Now, we need a cost function\n",
        "def neg_loglik(y_true, y_pred):\n",
        "  return - y_pred.log_prob(y_true)"
      ],
      "execution_count": 41,
      "outputs": []
    },
    {
      "cell_type": "code",
      "metadata": {
        "id": "SgR9yHKLOcr0"
      },
      "source": [
        "# Compile the model\n",
        "model.compile(loss = neg_loglik, optimizer = keras.optimizers.RMSprop())"
      ],
      "execution_count": 42,
      "outputs": []
    },
    {
      "cell_type": "code",
      "metadata": {
        "colab": {
          "base_uri": "https://localhost:8080/"
        },
        "id": "DQrQ0CaLOrZO",
        "outputId": "fecd2e84-4144-47cc-d183-e8ccbfea6d29"
      },
      "source": [
        "# Train the model\n",
        "model.fit(iq_data, iq_data, epochs = 10)"
      ],
      "execution_count": 43,
      "outputs": [
        {
          "output_type": "stream",
          "text": [
            "Epoch 1/10\n",
            "313/313 [==============================] - 0s 709us/step - loss: 86.7388\n",
            "Epoch 2/10\n",
            "313/313 [==============================] - 0s 757us/step - loss: 61.7426\n",
            "Epoch 3/10\n",
            "313/313 [==============================] - 0s 715us/step - loss: 41.1875\n",
            "Epoch 4/10\n",
            "313/313 [==============================] - 0s 728us/step - loss: 25.1760\n",
            "Epoch 5/10\n",
            "313/313 [==============================] - 0s 738us/step - loss: 13.6298\n",
            "Epoch 6/10\n",
            "313/313 [==============================] - 0s 746us/step - loss: 6.5606\n",
            "Epoch 7/10\n",
            "313/313 [==============================] - 0s 745us/step - loss: 3.8170\n",
            "Epoch 8/10\n",
            "313/313 [==============================] - 0s 742us/step - loss: 3.6272\n",
            "Epoch 9/10\n",
            "313/313 [==============================] - 0s 758us/step - loss: 3.6272\n",
            "Epoch 10/10\n",
            "313/313 [==============================] - 0s 697us/step - loss: 3.6271\n"
          ],
          "name": "stdout"
        },
        {
          "output_type": "execute_result",
          "data": {
            "text/plain": [
              "<tensorflow.python.keras.callbacks.History at 0x7f0252a17e80>"
            ]
          },
          "metadata": {
            "tags": []
          },
          "execution_count": 43
        }
      ]
    },
    {
      "cell_type": "code",
      "metadata": {
        "colab": {
          "base_uri": "https://localhost:8080/"
        },
        "id": "ZOF4q3T5PGNx",
        "outputId": "4dd862c3-2e12-45b2-d772-0b2761ea9ef9"
      },
      "source": [
        "# Let's see the results!\n",
        "model(iq_data).mean().numpy().mean()"
      ],
      "execution_count": 50,
      "outputs": [
        {
          "output_type": "execute_result",
          "data": {
            "text/plain": [
              "99.94286"
            ]
          },
          "metadata": {
            "tags": []
          },
          "execution_count": 50
        }
      ]
    },
    {
      "cell_type": "markdown",
      "metadata": {
        "id": "qa83axn1PtQR"
      },
      "source": [
        "Great, we're very close to the original mean of 100!"
      ]
    }
  ]
}