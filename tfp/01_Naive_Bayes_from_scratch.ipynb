{
  "nbformat": 4,
  "nbformat_minor": 0,
  "metadata": {
    "colab": {
      "name": "01_Naive_Bayes_from_scratch",
      "provenance": [],
      "collapsed_sections": []
    },
    "kernelspec": {
      "name": "python3",
      "display_name": "Python 3"
    }
  },
  "cells": [
    {
      "cell_type": "code",
      "metadata": {
        "id": "Ct0UjUeT9rAD"
      },
      "source": [
        "import tensorflow.keras as keras\r\n",
        "import tensorflow as tf\r\n",
        "\r\n",
        "import tensorflow_probability as tfp\r\n",
        "tfd = tfp.distributions\r\n",
        "tfpl = tfp.layers\r\n",
        "\r\n",
        "import matplotlib.pyplot as plt\r\n",
        "plt.style.use('fivethirtyeight')"
      ],
      "execution_count": 1,
      "outputs": []
    },
    {
      "cell_type": "code",
      "metadata": {
        "id": "yGizAkJR924G"
      },
      "source": [
        "# TBC..."
      ],
      "execution_count": null,
      "outputs": []
    }
  ]
}